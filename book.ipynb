{
 "cells": [
  {
   "cell_type": "markdown",
   "id": "66637a27-9d30-4c49-bad0-c9ac587ef419",
   "metadata": {
    "tags": []
   },
   "source": [
    "# Part 1: Scraping One Page"
   ]
  },
  {
   "cell_type": "markdown",
   "id": "66bdbdc1-8c3e-4407-954a-828b0919ec79",
   "metadata": {
    "tags": []
   },
   "source": [
    "#### 1) Used libraries"
   ]
  },
  {
   "cell_type": "code",
   "execution_count": 1,
   "id": "5f322997-d5bb-4442-a20d-33c33843b56d",
   "metadata": {
    "tags": []
   },
   "outputs": [],
   "source": [
    "import re # making regular expression\n",
    "import pandas as pd # reading and processing data\n",
    "from nltk.tokenize import word_tokenize  # tokenize text\n",
    "from nltk.corpus import stopwords # removing stopwords\n",
    "from collections import Counter # counting the frequency of words\n",
    "import matplotlib.pyplot as plt # plotting\n",
    "import requests # request html content\n",
    "from bs4 import BeautifulSoup # handle html content, e.g. searching\n",
    "from multiprocessing.pool import ThreadPool # used for processing articles using threads\n",
    "import os # used for check how many cores the PC have\n",
    "from tqdm import tqdm # showing progress\n",
    "import numpy as np"
   ]
  },
  {
   "cell_type": "markdown",
   "id": "6b037f4d-0ff0-4d92-b5ca-183bbb6ac1bb",
   "metadata": {
    "tags": []
   },
   "source": [
    "#### 2) Retrieve document"
   ]
  },
  {
   "cell_type": "code",
   "execution_count": 2,
   "id": "373b036a-63ba-4e19-93dc-d942834c0d66",
   "metadata": {
    "tags": []
   },
   "outputs": [],
   "source": [
    "# Get the content:\n",
    "url = 'https://www.bbc.com/news'\n",
    "repsonse = requests.get(url)\n",
    "content = repsonse.text"
   ]
  },
  {
   "cell_type": "markdown",
   "id": "4ec4eb02-747c-4584-9a45-151de6d6d5ac",
   "metadata": {},
   "source": [
    "I am searching for the following news title"
   ]
  },
  {
   "cell_type": "markdown",
   "id": "88d98410-dba6-4d88-b160-a18dabac3127",
   "metadata": {
    "tags": []
   },
   "source": [
    "![news_title_to_find](news_title_to_find.png)"
   ]
  },
  {
   "cell_type": "code",
   "execution_count": 3,
   "id": "7f4ec2cb-0e2c-4164-aa84-054ebbecd3af",
   "metadata": {
    "tags": []
   },
   "outputs": [],
   "source": [
    "news_title_to_find = 'Power, privilege and murder - the downfall of a dynasty'"
   ]
  },
  {
   "cell_type": "code",
   "execution_count": 4,
   "id": "e62695a8-6c3d-4ec4-8e2e-9780da3f858a",
   "metadata": {
    "tags": []
   },
   "outputs": [
    {
     "name": "stdout",
     "output_type": "stream",
     "text": [
      "News title NOT found\n"
     ]
    }
   ],
   "source": [
    "# Try to find the news title of interest:\n",
    "start_index = content.find(news_title_to_find)\n",
    "if start_index>0:\n",
    "    print(f\"News title:\\n   {content[start_index:start_index+len(news_title_to_find)]}\\nIS FOUND!\")\n",
    "else:\n",
    "    print(\"News title NOT found\")"
   ]
  },
  {
   "cell_type": "markdown",
   "id": "c844aa79-92b4-4a75-8ee3-4bd0cd735dea",
   "metadata": {},
   "source": [
    "<ins>Comment</ins>:<br />\n",
    "We are able to find the news title within the raw content just by using the standard string find() method. This method are returning the start index of the found title (if no found -1 is returned). This start index is then used to extract the whole title."
   ]
  },
  {
   "cell_type": "markdown",
   "id": "e5fceee4-056b-4160-a63b-4983cbb6f640",
   "metadata": {},
   "source": [
    "#### 3) Find news title within content (\"manually\" using Regular Expressions)"
   ]
  },
  {
   "cell_type": "markdown",
   "id": "53435df8-df22-46bc-af68-05d5c1672b77",
   "metadata": {},
   "source": [
    "After inspecting the content of some news titles, we have found that the titles occurs in a h3-tag, therefore:"
   ]
  },
  {
   "cell_type": "code",
   "execution_count": 5,
   "id": "4be18267-45ec-46c1-9b7f-9c186bc7ab4b",
   "metadata": {
    "tags": []
   },
   "outputs": [
    {
     "name": "stdout",
     "output_type": "stream",
     "text": [
      "Number of news titles: 39\n",
      "\n",
      "News titles:\n",
      "\n",
      "Manchester bomber friend known to MI5, BBC reveals\n",
      "Fox hosts endorsed false election claims - Murdoch\n",
      "Zelensky says situation in frontline city worsening\n",
      "How to relax like a Greenlander\n",
      "The tiny diamond sphere that could unlock clean power\n",
      "The loneliest villages in England\n",
      "NZ beat England by one run in all-time great finish\n",
      "Opposition boycott Nigeria election announcement\n",
      "Why siblings are becoming less common\n",
      "Guilt-free flying not in easy reach - scientists\n",
      "Mobile app\n",
      "Can clothes ever be fully recycled?\n",
      "The original male model\n",
      "Israeli-American killed in West Bank amid unrest\n",
      "DeSantis warns &#x27;buckle up&#x27; as he gets Disney power\n",
      "What to know about the Alex Murdaugh murder trial\n",
      "&#x27;The only black female in Kharkiv, Ukraine&#x27;\n",
      "Cold snap leaves Barcelona covered in snow\n",
      "Final stamps bearing the Queen&#x27;s head revealed\n",
      "Northern Ireland Brexit deal: At-a-glance\n",
      "More than 100 deaths feared in shipwreck off Italy\n",
      "BBC World News TV\n",
      "New York City struggles with migrant influx\n",
      "Hawara: &#x27;What happened was horrific and barbaric&#x27;\n",
      "Indian temple replaces elephant with robot for rituals\n",
      "BBC World Service Radio\n",
      "Supreme Court takes up student loan forgiveness\n",
      "Protests - but who backed Russia over Ukraine? Our quiz...\n",
      "Spectacular northern lights seen across UK\n",
      "Why the world faces a &#x27;genomic gap&#x27;\n",
      "Get in touch\n",
      "UK&#x27;s Sunak in Belfast after reaching new Brexit deal\n",
      "Missing Levi case probed by Spanish crime unit\n",
      "China should be honest on Covid origin, says US envoy\n",
      "Canada bans TikTok on government devices\n",
      "News daily newsletter\n",
      "‘I’d send 50 messages a day to try to convert people’\n",
      "What is Ron DeSantis waiting for?\n",
      "The evolution of work-life balance\n"
     ]
    }
   ],
   "source": [
    "# Regular expression to extract news titles:\n",
    "h3_regex = r'<h3 .*?\">(.+?)<\\/h3>'\n",
    "\n",
    "# Extract news titles:\n",
    "news_titles = re.findall(h3_regex, content)\n",
    "\n",
    "# Remove duplicates:\n",
    "news_titles = list(set(news_titles)) \n",
    "\n",
    "# Print all news titles:\n",
    "print(f\"Number of news titles: {len(news_titles)}\\n\\nNews titles:\\n\")\n",
    "print(*news_titles, sep=\"\\n\")"
   ]
  },
  {
   "cell_type": "markdown",
   "id": "36289f6a-d977-424a-bf51-0bd8e9d71b34",
   "metadata": {},
   "source": [
    "<ins>Comment</ins>:<br />\n",
    "Some difficulities using regular expressions for this task is could be that the HTML structure can vary in its structure and especially when it comes to nested tags, special characters, and comments. To compensate for this complex regular expressions is needed for handling all scenarious. Also when changes are done in the HTML structure, then changes to the regular expressions are also needed. In addition to that dynamic content is also (nerely impossible) to handle with regular expressions e.g. content generated by JavaScript. But for this task of course this is not an issue.\n",
    " \n",
    "Following issues is detected from the above printout:\n",
    " - Format issue: Apostrophes is not converted correctly.\n",
    " - Some additional header-titles are included, e.g. \"Mobile app\" and \"Get in touch\". By inspecting the source code in Web Developer Tools, I found that each news titles is having the same class attached. Therefore, we can filter the content based on that conclusion.\n",
    "\n",
    "These two issues can be fixed, with the following changes to the code:"
   ]
  },
  {
   "cell_type": "code",
   "execution_count": 6,
   "id": "9a7d9cd4-3a51-49c0-87ab-4ec09a663629",
   "metadata": {
    "tags": []
   },
   "outputs": [
    {
     "name": "stdout",
     "output_type": "stream",
     "text": [
      "Number of news titles: 36\n",
      "\n",
      "News titles:\n",
      "\n",
      "Manchester bomber friend known to MI5, BBC reveals\n",
      "Fox hosts endorsed false election claims - Murdoch\n",
      "Zelensky says situation in frontline city worsening\n",
      "How to relax like a Greenlander\n",
      "The tiny diamond sphere that could unlock clean power\n",
      "The loneliest villages in England\n",
      "NZ beat England by one run in all-time great finish\n",
      "Opposition boycott Nigeria election announcement\n",
      "Why siblings are becoming less common\n",
      "Guilt-free flying not in easy reach - scientists\n",
      "Can clothes ever be fully recycled?\n",
      "The original male model\n",
      "Israeli-American killed in West Bank amid unrest\n",
      "DeSantis warns 'buckle up' as he gets Disney power\n",
      "What to know about the Alex Murdaugh murder trial\n",
      "'The only black female in Kharkiv, Ukraine'\n",
      "Cold snap leaves Barcelona covered in snow\n",
      "Final stamps bearing the Queen's head revealed\n",
      "Northern Ireland Brexit deal: At-a-glance\n",
      "More than 100 deaths feared in shipwreck off Italy\n",
      "BBC World News TV\n",
      "New York City struggles with migrant influx\n",
      "Hawara: 'What happened was horrific and barbaric'\n",
      "Indian temple replaces elephant with robot for rituals\n",
      "BBC World Service Radio\n",
      "Supreme Court takes up student loan forgiveness\n",
      "Protests - but who backed Russia over Ukraine? Our quiz...\n",
      "Spectacular northern lights seen across UK\n",
      "Why the world faces a 'genomic gap'\n",
      "UK's Sunak in Belfast after reaching new Brexit deal\n",
      "Missing Levi case probed by Spanish crime unit\n",
      "China should be honest on Covid origin, says US envoy\n",
      "Canada bans TikTok on government devices\n",
      "‘I’d send 50 messages a day to try to convert people’\n",
      "What is Ron DeSantis waiting for?\n",
      "The evolution of work-life balance\n"
     ]
    }
   ],
   "source": [
    "# Extract only news titles, not other titles:\n",
    "h3_regex = r'<h3 class=\"gs-c-promo-heading__title .+?\">(.+?)<\\/h3>'\n",
    "\n",
    "# Extract news titles:\n",
    "news_titles = re.findall(h3_regex, content)\n",
    "\n",
    "# Remove duplicates by converting to a set and back to list again:\n",
    "news_titles = list(set(news_titles))\n",
    "\n",
    "# Fix apostrophes:\n",
    "news_titles = [item for item in map(lambda x: re.sub(r'(&#x27;)', \"'\", x), news_titles)]\n",
    "\n",
    "# Print news titles:\n",
    "print(f\"Number of news titles: {len(news_titles)}\\n\\nNews titles:\\n\")\n",
    "print(*news_titles, sep=\"\\n\")"
   ]
  },
  {
   "cell_type": "markdown",
   "id": "d86bbac9-c888-499c-9d2e-0045122a29f6",
   "metadata": {},
   "source": [
    "<ins>Comment</ins>:<br />\n",
    "After we have done filter out titles that are not at interest and done some replacements for apostrophes, we have the correct titles as in the webpage."
   ]
  },
  {
   "cell_type": "markdown",
   "id": "fdc31a47-9b86-4926-8614-9e14d4899454",
   "metadata": {
    "tags": []
   },
   "source": [
    "#### 4 & 5) Extract all news titles (\"automatically\" using BeautifulSoup)"
   ]
  },
  {
   "cell_type": "markdown",
   "id": "1ab09bf8-998c-4092-8fee-ac8212ae0f3c",
   "metadata": {},
   "source": [
    "We know from the previous task that the titles of interest is having the class 'gs-c-promo-heading__title'."
   ]
  },
  {
   "cell_type": "code",
   "execution_count": 7,
   "id": "6052985d-ec98-4445-8693-d1611137a4a8",
   "metadata": {
    "tags": []
   },
   "outputs": [
    {
     "name": "stdout",
     "output_type": "stream",
     "text": [
      "Number of news titles: 36\n",
      "\n",
      "News titles:\n",
      "\n",
      "Manchester bomber friend known to MI5, BBC reveals\n",
      "Fox hosts endorsed false election claims - Murdoch\n",
      "Zelensky says situation in frontline city worsening\n",
      "How to relax like a Greenlander\n",
      "The tiny diamond sphere that could unlock clean power\n",
      "The loneliest villages in England\n",
      "NZ beat England by one run in all-time great finish\n",
      "Opposition boycott Nigeria election announcement\n",
      "Why siblings are becoming less common\n",
      "Guilt-free flying not in easy reach - scientists\n",
      "Can clothes ever be fully recycled?\n",
      "The original male model\n",
      "Israeli-American killed in West Bank amid unrest\n",
      "Hawara: 'What happened was horrific and barbaric'\n",
      "What to know about the Alex Murdaugh murder trial\n",
      "Cold snap leaves Barcelona covered in snow\n",
      "Northern Ireland Brexit deal: At-a-glance\n",
      "More than 100 deaths feared in shipwreck off Italy\n",
      "Final stamps bearing the Queen's head revealed\n",
      "BBC World News TV\n",
      "New York City struggles with migrant influx\n",
      "DeSantis warns 'buckle up' as he gets Disney power\n",
      "'The only black female in Kharkiv, Ukraine'\n",
      "Indian temple replaces elephant with robot for rituals\n",
      "BBC World Service Radio\n",
      "Supreme Court takes up student loan forgiveness\n",
      "Protests - but who backed Russia over Ukraine? Our quiz...\n",
      "Spectacular northern lights seen across UK\n",
      "UK's Sunak in Belfast after reaching new Brexit deal\n",
      "Missing Levi case probed by Spanish crime unit\n",
      "China should be honest on Covid origin, says US envoy\n",
      "Canada bans TikTok on government devices\n",
      "‘I’d send 50 messages a day to try to convert people’\n",
      "Why the world faces a 'genomic gap'\n",
      "What is Ron DeSantis waiting for?\n",
      "The evolution of work-life balance\n"
     ]
    }
   ],
   "source": [
    "soup = BeautifulSoup(repsonse.content, 'html.parser')\n",
    "\n",
    "# Extract news titles:\n",
    "news_titles = [title.text for title in soup.find_all('h3', class_='gs-c-promo-heading__title')]\n",
    "\n",
    "# Remove duplicates:\n",
    "news_titles = list(set(news_titles))\n",
    "\n",
    "# Print news titles:\n",
    "print(f\"Number of news titles: {len(news_titles)}\\n\\nNews titles:\\n\")\n",
    "print(*news_titles, sep=\"\\n\")"
   ]
  },
  {
   "cell_type": "markdown",
   "id": "5d722f9c-607f-4e00-9708-e58186957ad6",
   "metadata": {},
   "source": [
    "<ins>Comment</ins>:<br />\n",
    "Nice! We are getting the same number of news as the \"manually\" method.\n",
    "Notice that we are not having apostrophes issues with this library."
   ]
  },
  {
   "cell_type": "markdown",
   "id": "39558ca9-fe50-406f-888c-613da9ecf485",
   "metadata": {},
   "source": [
    "#### 6) Extract only top stories"
   ]
  },
  {
   "cell_type": "code",
   "execution_count": 8,
   "id": "1c6dc7b2-f822-4b26-b1c5-3ad5ebce0881",
   "metadata": {
    "tags": []
   },
   "outputs": [
    {
     "name": "stdout",
     "output_type": "stream",
     "text": [
      "Number of news titles: 14\n",
      "\n",
      "News titles:\n",
      "\n",
      "Manchester bomber friend known to MI5, BBC reveals\n",
      "Missing Levi case probed by Spanish crime unit\n",
      "Cold snap leaves Barcelona covered in snow\n",
      "Fox hosts endorsed false election claims - Murdoch\n",
      "China should be honest on Covid origin, says US envoy\n",
      "Zelensky says situation in frontline city worsening\n",
      "More than 100 deaths feared in shipwreck off Italy\n",
      "Canada bans TikTok on government devices\n",
      "Guilt-free flying not in easy reach - scientists\n",
      "DeSantis warns 'buckle up' as he gets Disney power\n",
      "Israeli-American killed in West Bank amid unrest\n",
      "NZ beat England by one run in all-time great finish\n",
      "Opposition boycott Nigeria election announcement\n",
      "UK's Sunak in Belfast after reaching new Brexit deal\n"
     ]
    }
   ],
   "source": [
    "# Get only top stories:\n",
    "top_stories = [story.find('h3', class_='gs-c-promo-heading__title').text for story in soup.find('div', class_='nw-c-top-stories--standard').find_all('div', class_='gs-c-promo-body')]\n",
    "\n",
    "# Remove duplicates:\n",
    "top_stories = list(set(top_stories))\n",
    "\n",
    "# Print news titles:\n",
    "print(f\"Number of news titles: {len(top_stories)}\\n\\nNews titles:\\n\")\n",
    "print(*top_stories, sep=\"\\n\")"
   ]
  },
  {
   "cell_type": "markdown",
   "id": "1ec65495-4900-4097-bd08-4dc974a879cf",
   "metadata": {},
   "source": [
    "<ins>Comment</ins>:<br />\n",
    "We are now correctly only getting top stories."
   ]
  },
  {
   "cell_type": "markdown",
   "id": "b652022e-adc3-4844-ae71-6c47a4f77f7e",
   "metadata": {},
   "source": [
    "#### 7) Extract summmaries of the news title and section it belongs to"
   ]
  },
  {
   "cell_type": "code",
   "execution_count": 9,
   "id": "4c485318-f2b8-425c-a9a5-20cf3f561bde",
   "metadata": {
    "tags": []
   },
   "outputs": [
    {
     "name": "stdout",
     "output_type": "stream",
     "text": [
      "Number of news titles: 14\n",
      "\n"
     ]
    },
    {
     "data": {
      "text/html": [
       "<div>\n",
       "<style scoped>\n",
       "    .dataframe tbody tr th:only-of-type {\n",
       "        vertical-align: middle;\n",
       "    }\n",
       "\n",
       "    .dataframe tbody tr th {\n",
       "        vertical-align: top;\n",
       "    }\n",
       "\n",
       "    .dataframe thead th {\n",
       "        text-align: right;\n",
       "    }\n",
       "</style>\n",
       "<table border=\"1\" class=\"dataframe\">\n",
       "  <thead>\n",
       "    <tr style=\"text-align: right;\">\n",
       "      <th></th>\n",
       "      <th>title</th>\n",
       "      <th>summary</th>\n",
       "      <th>section</th>\n",
       "    </tr>\n",
       "  </thead>\n",
       "  <tbody>\n",
       "    <tr>\n",
       "      <th>0</th>\n",
       "      <td>UK's Sunak in Belfast after reaching new Brexi...</td>\n",
       "      <td>Rishi Sunak set to face tough questions in Nor...</td>\n",
       "      <td>UK</td>\n",
       "    </tr>\n",
       "    <tr>\n",
       "      <th>1</th>\n",
       "      <td>Zelensky says situation in frontline city wors...</td>\n",
       "      <td>Russian forces have been trying to capture the...</td>\n",
       "      <td>Europe</td>\n",
       "    </tr>\n",
       "    <tr>\n",
       "      <th>2</th>\n",
       "      <td>Manchester bomber friend known to MI5, BBC rev...</td>\n",
       "      <td>A man who was close to Salman Abedi had been i...</td>\n",
       "      <td>UK</td>\n",
       "    </tr>\n",
       "    <tr>\n",
       "      <th>3</th>\n",
       "      <td>Missing Levi case probed by Spanish crime unit</td>\n",
       "      <td>Police in Barcelona say the rugby player's cas...</td>\n",
       "      <td>Newsbeat</td>\n",
       "    </tr>\n",
       "    <tr>\n",
       "      <th>4</th>\n",
       "      <td>Fox hosts endorsed false election claims - Mur...</td>\n",
       "      <td>The billionaire's acknowledgement is revealed ...</td>\n",
       "      <td>US &amp; Canada</td>\n",
       "    </tr>\n",
       "    <tr>\n",
       "      <th>5</th>\n",
       "      <td>Cold snap leaves Barcelona covered in snow</td>\n",
       "      <td>Storm Juliette sets off a weather alert in par...</td>\n",
       "      <td>Europe</td>\n",
       "    </tr>\n",
       "    <tr>\n",
       "      <th>6</th>\n",
       "      <td>Israeli-American killed in West Bank amid unrest</td>\n",
       "      <td>The shooting happened after Israeli settlers a...</td>\n",
       "      <td>Middle East</td>\n",
       "    </tr>\n",
       "    <tr>\n",
       "      <th>7</th>\n",
       "      <td>More than 100 deaths feared in shipwreck off I...</td>\n",
       "      <td>Prime Minister Giorgia Meloni urges EU institu...</td>\n",
       "      <td>Europe</td>\n",
       "    </tr>\n",
       "    <tr>\n",
       "      <th>8</th>\n",
       "      <td>China should be honest on Covid origin, says U...</td>\n",
       "      <td>Beijing hits back that the outbreak's origin i...</td>\n",
       "      <td>US &amp; Canada</td>\n",
       "    </tr>\n",
       "    <tr>\n",
       "      <th>9</th>\n",
       "      <td>DeSantis warns 'buckle up' as he gets Disney p...</td>\n",
       "      <td>Walt Disney World's self-governing district is...</td>\n",
       "      <td>US &amp; Canada</td>\n",
       "    </tr>\n",
       "    <tr>\n",
       "      <th>10</th>\n",
       "      <td>Opposition boycott Nigeria election announcement</td>\n",
       "      <td>The ruling party candidate takes an early lead...</td>\n",
       "      <td>Africa</td>\n",
       "    </tr>\n",
       "    <tr>\n",
       "      <th>11</th>\n",
       "      <td>Canada bans TikTok on government devices</td>\n",
       "      <td>The federal government says the video app is a...</td>\n",
       "      <td>US &amp; Canada</td>\n",
       "    </tr>\n",
       "    <tr>\n",
       "      <th>12</th>\n",
       "      <td>Guilt-free flying not in easy reach - scientists</td>\n",
       "      <td>No clear scientific solutions currently to the...</td>\n",
       "      <td>Science &amp; Environment</td>\n",
       "    </tr>\n",
       "    <tr>\n",
       "      <th>13</th>\n",
       "      <td>NZ beat England by one run in all-time great f...</td>\n",
       "      <td>England lose to New Zealand by one run in one ...</td>\n",
       "      <td>BBC Sport</td>\n",
       "    </tr>\n",
       "  </tbody>\n",
       "</table>\n",
       "</div>"
      ],
      "text/plain": [
       "                                                title  \\\n",
       "0   UK's Sunak in Belfast after reaching new Brexi...   \n",
       "1   Zelensky says situation in frontline city wors...   \n",
       "2   Manchester bomber friend known to MI5, BBC rev...   \n",
       "3      Missing Levi case probed by Spanish crime unit   \n",
       "4   Fox hosts endorsed false election claims - Mur...   \n",
       "5          Cold snap leaves Barcelona covered in snow   \n",
       "6    Israeli-American killed in West Bank amid unrest   \n",
       "7   More than 100 deaths feared in shipwreck off I...   \n",
       "8   China should be honest on Covid origin, says U...   \n",
       "9   DeSantis warns 'buckle up' as he gets Disney p...   \n",
       "10   Opposition boycott Nigeria election announcement   \n",
       "11           Canada bans TikTok on government devices   \n",
       "12   Guilt-free flying not in easy reach - scientists   \n",
       "13  NZ beat England by one run in all-time great f...   \n",
       "\n",
       "                                              summary                section  \n",
       "0   Rishi Sunak set to face tough questions in Nor...                     UK  \n",
       "1   Russian forces have been trying to capture the...                 Europe  \n",
       "2   A man who was close to Salman Abedi had been i...                     UK  \n",
       "3   Police in Barcelona say the rugby player's cas...               Newsbeat  \n",
       "4   The billionaire's acknowledgement is revealed ...            US & Canada  \n",
       "5   Storm Juliette sets off a weather alert in par...                 Europe  \n",
       "6   The shooting happened after Israeli settlers a...            Middle East  \n",
       "7   Prime Minister Giorgia Meloni urges EU institu...                 Europe  \n",
       "8   Beijing hits back that the outbreak's origin i...            US & Canada  \n",
       "9   Walt Disney World's self-governing district is...            US & Canada  \n",
       "10  The ruling party candidate takes an early lead...                 Africa  \n",
       "11  The federal government says the video app is a...            US & Canada  \n",
       "12  No clear scientific solutions currently to the...  Science & Environment  \n",
       "13  England lose to New Zealand by one run in one ...              BBC Sport  "
      ]
     },
     "execution_count": 9,
     "metadata": {},
     "output_type": "execute_result"
    }
   ],
   "source": [
    "# Find top stories:\n",
    "top_stories = soup.find('div', class_='nw-c-top-stories').find_all('div', class_='gs-c-promo-body')\n",
    "\n",
    "# Extract title, summary, and section for each top story:\n",
    "top_stories = [{'title': item.find('h3', class_='gs-c-promo-heading__title').text,'summary': item.find('p', class_='gs-c-promo-summary').text,'section': item.find('a', class_='gs-c-section-link').text} for item in top_stories]\n",
    "\n",
    "# Remove duplicates based on title\n",
    "unique_top_stories = []\n",
    "unique_titles = set() # set for checking if story is already found\n",
    "for story in top_stories:\n",
    "    if story['title'] not in unique_titles:\n",
    "        unique_top_stories.append(story)\n",
    "        unique_titles.add(story['title'])\n",
    "\n",
    "print(f\"Number of news titles: {len(unique_top_stories)}\\n\")\n",
    "df = pd.DataFrame(unique_top_stories)\n",
    "df"
   ]
  },
  {
   "cell_type": "markdown",
   "id": "b7921cac-bab9-4b4e-aa3a-5864ddd63c7d",
   "metadata": {},
   "source": [
    "<ins>Comment</ins>:<br />\n",
    "We are now correctly getting the summary for each top story and their corresponding section."
   ]
  },
  {
   "cell_type": "markdown",
   "id": "0a32eee1-ea0f-46df-9f38-4529030aeaa3",
   "metadata": {},
   "source": [
    "#### 8) Write news titles to csv file"
   ]
  },
  {
   "cell_type": "code",
   "execution_count": 10,
   "id": "a18c34aa-cadb-4a82-8487-b6639f25fe2b",
   "metadata": {
    "tags": []
   },
   "outputs": [],
   "source": [
    "# Save the dataframe to csv:\n",
    "df.to_csv('bbc-news.csv', index=False)"
   ]
  },
  {
   "cell_type": "markdown",
   "id": "602650e9-1fc1-463e-8eb2-be662155de9b",
   "metadata": {},
   "source": [
    "# Part 2: Scraping a Reliable News Dataset"
   ]
  },
  {
   "cell_type": "markdown",
   "id": "32443c76-7fff-4b32-bb84-46b24c7467a9",
   "metadata": {},
   "source": [
    "Extract all articles from \"https://en.wikinews.org/wiki/Category:Politics_and_conflicts\", with starting letters:"
   ]
  },
  {
   "cell_type": "code",
   "execution_count": 11,
   "id": "db63798e-c115-45cf-8c02-fc2f18bc5bd0",
   "metadata": {
    "tags": []
   },
   "outputs": [
    {
     "name": "stdout",
     "output_type": "stream",
     "text": [
      "Letters to search for:\n",
      "C, D, E, F, G, H, I, J, K, L\n"
     ]
    }
   ],
   "source": [
    "group_nr = 2\n",
    "expression = \"ABCDEFGHIJKLMNOPRSTUVWZABCDEFGHIJKLMNOPRSTUVWZ\"[group_nr%23:group_nr%23+10]\n",
    "expression = [*expression]\n",
    "print(\"Letters to search for:\")\n",
    "print(*expression, sep=', ')"
   ]
  },
  {
   "cell_type": "markdown",
   "id": "7b579f8b-c65c-42a1-a636-6903e7e22fcc",
   "metadata": {},
   "source": [
    "<ins>Comment</ins>:<br />\n",
    "All articles with the letters printed out above should now be found:"
   ]
  },
  {
   "cell_type": "code",
   "execution_count": 12,
   "id": "ccf13ddf-b48e-4019-bf53-ff838c60e340",
   "metadata": {
    "tags": []
   },
   "outputs": [
    {
     "name": "stdout",
     "output_type": "stream",
     "text": [
      "Working on letter: L; Item: 2683\n",
      "\n",
      "Finished!\n"
     ]
    }
   ],
   "source": [
    "base_url = 'https://en.wikinews.org'\n",
    "nxt_url = base_url + '/wiki/Category:Politics_and_conflicts'\n",
    "\n",
    "start_letter = expression[0]\n",
    "# Get the letter after the last letter to search for\n",
    "to_letter = chr(ord(expression[-1]) + 1)\n",
    "\n",
    "# Get all links for the start letters to search for\n",
    "items = []\n",
    "i = 0\n",
    "current_letter = \"\"\n",
    "while current_letter <= expression[-1]:\n",
    "    response = requests.get(nxt_url)\n",
    "    content = response.content\n",
    "    soup = BeautifulSoup(content, \"html.parser\")\n",
    "    page = soup.find(\"div\", {\"id\": \"mw-pages\"})\n",
    "    nxt_url = base_url + page.find(\"a\", string='next page').get('href')\n",
    "    categories = page.findAll(\"div\", {\"class\": \"mw-category-group\"})\n",
    "    for category in categories:\n",
    "        current_letter = category.find(\"h3\").text\n",
    "        if current_letter > expression[-1]:\n",
    "            break\n",
    "        if current_letter >= start_letter:\n",
    "            urls = category.findAll(\"a\")\n",
    "            for url in urls:\n",
    "                i=i+1\n",
    "                print(f\"Working on letter: {current_letter}; Item: {i}\", end=\"\\r\")\n",
    "                url = base_url + url.get('href')\n",
    "                items.append([current_letter, url])\n",
    "\n",
    "print(\"\\n\\nFinished!\")"
   ]
  },
  {
   "cell_type": "code",
   "execution_count": 13,
   "id": "23a4bf78-2dd9-48dd-83fd-1b69b20ab7c5",
   "metadata": {
    "tags": []
   },
   "outputs": [],
   "source": [
    "# Function to remove remove commas, multiple tabs, multiple newlines, multiple spaces and special characters::\n",
    "def clean_text(text):\n",
    "    # List of patterns and their appropriate replacements:\n",
    "    patterns = {\n",
    "        r'\\t+': ' \\t ',\n",
    "        r'\\n+': ' \\n ',\n",
    "        r'\\s{2,}': ' ',\n",
    "        r'\\(|\\)|\\`|\\'|\\´|\\\"|\\,|\\!|\\[|\\]|\\.|\\?|\\–|\\&|\\—|\\”|\\“|\\%|\\:|\\;|\\-': '',\n",
    "    }\n",
    "    \n",
    "    # Lowercase all characters:\n",
    "    text = text.lower()\n",
    "    \n",
    "    # Loop through each pattern and apply the pattern to each column and do replacement if needed:\n",
    "    for pattern, replacement in patterns.items():\n",
    "        text = re.sub(pattern, replacement, str(text))\n",
    "\n",
    "    return text"
   ]
  },
  {
   "cell_type": "code",
   "execution_count": 16,
   "id": "e770aad9-cdf5-46b6-9887-24e02da7988b",
   "metadata": {
    "tags": []
   },
   "outputs": [],
   "source": [
    "# Function to process the article link.\n",
    "# Returning the start-letter, title, url, date and content\n",
    "def process_item(item):\n",
    "    current_letter, url = item\n",
    "    \n",
    "    # Get content:\n",
    "    response = requests.get(url)\n",
    "    content = response.content\n",
    "    soup = BeautifulSoup(content, \"html.parser\")\n",
    "    \n",
    "    # Get title:\n",
    "    title = soup.find(\"span\", {\"class\": \"mw-page-title-main\"})\n",
    "    title = title.get_text() if title else ''\n",
    "    \n",
    "    # Get article:\n",
    "    article = soup.find(\"div\", {\"class\": \"mw-parser-output\"})\n",
    "    \n",
    "    # Get date:\n",
    "    if article:\n",
    "        date = article.find('span', {\"id\": \"publishDate\"})\n",
    "        if date:\n",
    "            date = date.get('title')\n",
    "        else:\n",
    "            date = ''\n",
    "    \n",
    "    # Get text, combine it and clean it:\n",
    "    text = article.findAll(\"p\", recursive=False)\n",
    "    text = ''.join(p.get_text() for p in text)\n",
    "    text = clean_text(text)\n",
    "    \n",
    "    # Add articles to list:\n",
    "    return [current_letter, title, url, date, text]"
   ]
  },
  {
   "cell_type": "code",
   "execution_count": 17,
   "id": "93ab3073",
   "metadata": {
    "tags": []
   },
   "outputs": [
    {
     "name": "stderr",
     "output_type": "stream",
     "text": [
      "100%|██████████████████████████████████████████████████████████████████████████████| 2683/2683 [01:32<00:00, 28.94it/s]\n"
     ]
    }
   ],
   "source": [
    "articles = []\n",
    "# Create a thread pool by the size of CPU-cores x 2 (rule of thumb) for processing articles:\n",
    "with ThreadPool(os.cpu_count()*2) as pool:\n",
    "    # Use tqdm to show progress:\n",
    "    # with imap ordering is kept and results can be received immediately\n",
    "    for article in tqdm(pool.imap(process_item, items), total=len(items)):\n",
    "        articles.append(article)"
   ]
  },
  {
   "cell_type": "code",
   "execution_count": 18,
   "id": "d0d48847-a4ae-4bc3-a4c0-a1ddb7fd3623",
   "metadata": {
    "tags": []
   },
   "outputs": [
    {
     "data": {
      "text/html": [
       "<div>\n",
       "<style scoped>\n",
       "    .dataframe tbody tr th:only-of-type {\n",
       "        vertical-align: middle;\n",
       "    }\n",
       "\n",
       "    .dataframe tbody tr th {\n",
       "        vertical-align: top;\n",
       "    }\n",
       "\n",
       "    .dataframe thead th {\n",
       "        text-align: right;\n",
       "    }\n",
       "</style>\n",
       "<table border=\"1\" class=\"dataframe\">\n",
       "  <thead>\n",
       "    <tr style=\"text-align: right;\">\n",
       "      <th></th>\n",
       "      <th>letter</th>\n",
       "      <th>title</th>\n",
       "      <th>url</th>\n",
       "      <th>date</th>\n",
       "      <th>content</th>\n",
       "    </tr>\n",
       "  </thead>\n",
       "  <tbody>\n",
       "    <tr>\n",
       "      <th>0</th>\n",
       "      <td>C</td>\n",
       "      <td>Cabinet Minister resigns after boycott in Grenada</td>\n",
       "      <td>https://en.wikinews.org/wiki/Cabinet_Minister_...</td>\n",
       "      <td>2010-11-23</td>\n",
       "      <td>a grenadian cabinet minister has resigned afte...</td>\n",
       "    </tr>\n",
       "    <tr>\n",
       "      <th>1</th>\n",
       "      <td>C</td>\n",
       "      <td>Cabinet shuffled in Ontario</td>\n",
       "      <td>https://en.wikinews.org/wiki/Cabinet_shuffled_...</td>\n",
       "      <td>2006-09-19</td>\n",
       "      <td>ontario premier dalton mcguinty implemented a ...</td>\n",
       "    </tr>\n",
       "    <tr>\n",
       "      <th>2</th>\n",
       "      <td>C</td>\n",
       "      <td>Cabinet to discuss UK nuclear deterrent for th...</td>\n",
       "      <td>https://en.wikinews.org/wiki/Cabinet_to_discus...</td>\n",
       "      <td>2006-11-22</td>\n",
       "      <td>the labour partys 2005 election manifesto read...</td>\n",
       "    </tr>\n",
       "    <tr>\n",
       "      <th>3</th>\n",
       "      <td>C</td>\n",
       "      <td>CAFTA faces tough vote in U.S. House</td>\n",
       "      <td>https://en.wikinews.org/wiki/CAFTA_faces_tough...</td>\n",
       "      <td>2005-07-27</td>\n",
       "      <td>president bush is lobbying the us house of rep...</td>\n",
       "    </tr>\n",
       "    <tr>\n",
       "      <th>4</th>\n",
       "      <td>C</td>\n",
       "      <td>Cairo blast kills 3</td>\n",
       "      <td>https://en.wikinews.org/wiki/Cairo_blast_kills_3</td>\n",
       "      <td>NaN</td>\n",
       "      <td>april 8 2005 visitors to popular tourist spots...</td>\n",
       "    </tr>\n",
       "    <tr>\n",
       "      <th>...</th>\n",
       "      <td>...</td>\n",
       "      <td>...</td>\n",
       "      <td>...</td>\n",
       "      <td>...</td>\n",
       "      <td>...</td>\n",
       "    </tr>\n",
       "    <tr>\n",
       "      <th>2678</th>\n",
       "      <td>L</td>\n",
       "      <td>Lula's future in the hands of Brazilian Parlia...</td>\n",
       "      <td>https://en.wikinews.org/wiki/Lula%27s_future_i...</td>\n",
       "      <td>2005-06-12</td>\n",
       "      <td>the government of brazilian president luiz iná...</td>\n",
       "    </tr>\n",
       "    <tr>\n",
       "      <th>2679</th>\n",
       "      <td>L</td>\n",
       "      <td>Lula: Venezuela \"does not lack democracy\"</td>\n",
       "      <td>https://en.wikinews.org/wiki/Lula:_Venezuela_%...</td>\n",
       "      <td>2007-11-18</td>\n",
       "      <td>in statements to the press on november 14 the ...</td>\n",
       "    </tr>\n",
       "    <tr>\n",
       "      <th>2680</th>\n",
       "      <td>L</td>\n",
       "      <td>Luxembourg head of government resigns after ei...</td>\n",
       "      <td>https://en.wikinews.org/wiki/Luxembourg_head_o...</td>\n",
       "      <td>2013-07-13</td>\n",
       "      <td>prime minister jeanclaude juncker of the grand...</td>\n",
       "    </tr>\n",
       "    <tr>\n",
       "      <th>2681</th>\n",
       "      <td>L</td>\n",
       "      <td>Luxembourg votes Yes to the EU treaty</td>\n",
       "      <td>https://en.wikinews.org/wiki/Luxembourg_votes_...</td>\n",
       "      <td>2005-07-10</td>\n",
       "      <td>the people of luxembourg voted a slight yes to...</td>\n",
       "    </tr>\n",
       "    <tr>\n",
       "      <th>2682</th>\n",
       "      <td>L</td>\n",
       "      <td>Lyricist Javed Akhtar awarded Indira Gandhi Prize</td>\n",
       "      <td>https://en.wikinews.org/wiki/Lyricist_Javed_Ak...</td>\n",
       "      <td>2006-10-31</td>\n",
       "      <td>acclaimed lyricist poet and screenplaywriter j...</td>\n",
       "    </tr>\n",
       "  </tbody>\n",
       "</table>\n",
       "<p>2683 rows × 5 columns</p>\n",
       "</div>"
      ],
      "text/plain": [
       "     letter                                              title  \\\n",
       "0         C  Cabinet Minister resigns after boycott in Grenada   \n",
       "1         C                        Cabinet shuffled in Ontario   \n",
       "2         C  Cabinet to discuss UK nuclear deterrent for th...   \n",
       "3         C               CAFTA faces tough vote in U.S. House   \n",
       "4         C                                Cairo blast kills 3   \n",
       "...     ...                                                ...   \n",
       "2678      L  Lula's future in the hands of Brazilian Parlia...   \n",
       "2679      L          Lula: Venezuela \"does not lack democracy\"   \n",
       "2680      L  Luxembourg head of government resigns after ei...   \n",
       "2681      L              Luxembourg votes Yes to the EU treaty   \n",
       "2682      L  Lyricist Javed Akhtar awarded Indira Gandhi Prize   \n",
       "\n",
       "                                                    url        date  \\\n",
       "0     https://en.wikinews.org/wiki/Cabinet_Minister_...  2010-11-23   \n",
       "1     https://en.wikinews.org/wiki/Cabinet_shuffled_...  2006-09-19   \n",
       "2     https://en.wikinews.org/wiki/Cabinet_to_discus...  2006-11-22   \n",
       "3     https://en.wikinews.org/wiki/CAFTA_faces_tough...  2005-07-27   \n",
       "4      https://en.wikinews.org/wiki/Cairo_blast_kills_3         NaN   \n",
       "...                                                 ...         ...   \n",
       "2678  https://en.wikinews.org/wiki/Lula%27s_future_i...  2005-06-12   \n",
       "2679  https://en.wikinews.org/wiki/Lula:_Venezuela_%...  2007-11-18   \n",
       "2680  https://en.wikinews.org/wiki/Luxembourg_head_o...  2013-07-13   \n",
       "2681  https://en.wikinews.org/wiki/Luxembourg_votes_...  2005-07-10   \n",
       "2682  https://en.wikinews.org/wiki/Lyricist_Javed_Ak...  2006-10-31   \n",
       "\n",
       "                                                content  \n",
       "0     a grenadian cabinet minister has resigned afte...  \n",
       "1     ontario premier dalton mcguinty implemented a ...  \n",
       "2     the labour partys 2005 election manifesto read...  \n",
       "3     president bush is lobbying the us house of rep...  \n",
       "4     april 8 2005 visitors to popular tourist spots...  \n",
       "...                                                 ...  \n",
       "2678  the government of brazilian president luiz iná...  \n",
       "2679  in statements to the press on november 14 the ...  \n",
       "2680  prime minister jeanclaude juncker of the grand...  \n",
       "2681  the people of luxembourg voted a slight yes to...  \n",
       "2682  acclaimed lyricist poet and screenplaywriter j...  \n",
       "\n",
       "[2683 rows x 5 columns]"
      ]
     },
     "execution_count": 18,
     "metadata": {},
     "output_type": "execute_result"
    }
   ],
   "source": [
    "# Save the list to pandas dataframe:\n",
    "df = pd.DataFrame(articles, columns=['letter', 'title', 'url', 'date', 'content'])\n",
    "\n",
    "# Convert date column to panda date:\n",
    "df['date'] = pd.to_datetime(df['date']).dt.strftime('%Y-%m-%d')\n",
    "\n",
    "# Remove the date at the beginning of the content using regex:\n",
    "pattern = r'^(.+? .+? \\d{1,2} \\d{4}.?)'\n",
    "df['content'] = df[['content']].applymap(lambda x: re.sub(pattern, '', x))\n",
    "\n",
    "# Print the dataframe:\n",
    "df"
   ]
  },
  {
   "cell_type": "code",
   "execution_count": 19,
   "id": "27acd120-85c1-4f52-af88-4cb01153ef59",
   "metadata": {
    "tags": []
   },
   "outputs": [],
   "source": [
    "# Save the dataframe to csv:\n",
    "df.to_csv('wiki.csv', index=False)"
   ]
  },
  {
   "cell_type": "markdown",
   "id": "8f43ccef-449e-45ae-bed6-3ab72ab848f8",
   "metadata": {},
   "source": [
    "<ins>Comment</ins>:<br/>\n",
    "With the above code we are able to get the title, url, date and the content of the articles using threads. ThreadPool is suitable for I/O-bound tasks that involve waiting for I/O operations, such as network requests or file I/O, which indeed is the case here. By using threads we can improve the performance by allowing other tasks to be executed while waiting. Threads are chosen instead of Pool (multiprocessing/cores), since the bottle-neck here is the amount network requests not the amount of CPU-power."
   ]
  },
  {
   "cell_type": "markdown",
   "id": "dc7c8cc9-8640-4e0b-a876-63be24e99b75",
   "metadata": {
    "tags": []
   },
   "source": [
    "##### Statistics:\n",
    " - Year with most articles\n",
    " - Most frequent words\n",
    " - Average number of words in the articles"
   ]
  },
  {
   "cell_type": "markdown",
   "id": "d40f7a08-c712-427d-a392-d460e8c7aa97",
   "metadata": {},
   "source": [
    "##### Year with most articles:"
   ]
  },
  {
   "cell_type": "code",
   "execution_count": 20,
   "id": "92498561-aba6-4f3e-a540-8e7c6a04887d",
   "metadata": {
    "tags": []
   },
   "outputs": [
    {
     "data": {
      "image/png": "[encoded data removed]",
      "text/plain": [
       "<Figure size 640x480 with 1 Axes>"
      ]
     },
     "metadata": {},
     "output_type": "display_data"
    }
   ],
   "source": [
    "# Extract the year from each date:\n",
    "year_counts = pd.to_datetime(df['date']).dropna().dt.year.value_counts() # dropna(): dropping empty values\n",
    "\n",
    "# Plot the year frequency distribution\n",
    "plt.bar(year_counts.index, year_counts.values)\n",
    "plt.xticks(year_counts.index, rotation=90)\n",
    "plt.xlabel('Year')\n",
    "plt.ylabel('Number of articles')\n",
    "plt.title('Number of articles for a given year')\n",
    "plt.show()"
   ]
  },
  {
   "cell_type": "markdown",
   "id": "537678a3-522f-42ff-bcb1-21e3ec233217",
   "metadata": {},
   "source": [
    "<ins>Comment</ins>:<br/>\n",
    "From the above we can see that a lot of articles was made in the years 2005-2008(10).\n",
    "This could be that between 2005 and 2008, there were several notable political events and conflicts, such as the Iraq War, the election of Barack Obama as the President, and the global financial crisis. As a result, it is likely that many news articles were written about these events during that time period and subsequently added to Wikinews."
   ]
  },
  {
   "cell_type": "markdown",
   "id": "856312fd-5941-44d3-9c3e-0e0a7a5c993a",
   "metadata": {},
   "source": [
    "##### Most frequent words:"
   ]
  },
  {
   "cell_type": "code",
   "execution_count": 21,
   "id": "034786df-542d-40fe-8ace-0d5fe693e5d5",
   "metadata": {
    "tags": []
   },
   "outputs": [],
   "source": [
    "def remove_stopwords(words):\n",
    "    # Remove stopwords\n",
    "    stop_words = stopwords.words(\"english\")\n",
    "    \n",
    "    # Loop through all elements and remove stopwords\n",
    "    return [word for word in words if word not in stop_words]  # Remove stopwords from the list"
   ]
  },
  {
   "cell_type": "code",
   "execution_count": 22,
   "id": "04b02663-3e79-451b-be9f-de34f87254df",
   "metadata": {
    "tags": []
   },
   "outputs": [],
   "source": [
    "def count_word_frequency(words):\n",
    "    # Create a Counter list\n",
    "    frequency = Counter()\n",
    "    \n",
    "    # Update/add list of words\n",
    "    frequency.update(words)\n",
    "    \n",
    "    # Return the sorted dictionary based on the frequency of each word\n",
    "    return sorted(frequency.items(), key=lambda x: x[1], reverse=True)"
   ]
  },
  {
   "cell_type": "code",
   "execution_count": 23,
   "id": "41093565-c300-4238-909a-c19a6229f9e7",
   "metadata": {
    "tags": []
   },
   "outputs": [],
   "source": [
    "def plot_word_frequency(sorted_frequency):\n",
    "    # Number of words to list of frequency\n",
    "    nwords = 50\n",
    "\n",
    "    # Extract the words and their frequency from the sorted list\n",
    "    words = [x[0] for x in sorted_frequency[:nwords]]\n",
    "    frequency = [x[1] for x in sorted_frequency[:nwords]]\n",
    "\n",
    "    # Plot a barplot using matplotlib\n",
    "    plt.bar(words, frequency)\n",
    "    plt.ylabel('Frequency')\n",
    "    plt.title('Frequency of the 50 most frequent words')\n",
    "    plt.xticks(rotation=90)\n",
    "    plt.show()"
   ]
  },
  {
   "cell_type": "code",
   "execution_count": 24,
   "id": "af30000f-0040-4766-82e6-5d280dd0f211",
   "metadata": {
    "tags": []
   },
   "outputs": [],
   "source": [
    "# Get the content a join them together:\n",
    "contents = df[\"content\"].tolist()\n",
    "contents = \"\".join(contents)\n",
    "\n",
    "# Create a list of words\n",
    "tokens = word_tokenize(contents)"
   ]
  },
  {
   "cell_type": "code",
   "execution_count": 25,
   "id": "6f17fd8a-9e58-432d-ab04-dc0270e3b5f6",
   "metadata": {
    "tags": []
   },
   "outputs": [
    {
     "data": {
      "image/png": "[encoded data removed]",
      "text/plain": [
       "<Figure size 640x480 with 1 Axes>"
      ]
     },
     "metadata": {},
     "output_type": "display_data"
    }
   ],
   "source": [
    "# Remove stopwords\n",
    "words = remove_stopwords(tokens)\n",
    "# Count the frequency of each word:\n",
    "word_frequency = count_word_frequency(words)\n",
    "# Plot the frequency of words\n",
    "plot_word_frequency(word_frequency)"
   ]
  },
  {
   "cell_type": "markdown",
   "id": "6f966d49-74cc-4201-84e1-77d11823f91a",
   "metadata": {},
   "source": [
    "<ins>Comment</ins>:<br/>\n",
    "From the above we can see the most frequent words are in a political tone. "
   ]
  },
  {
   "cell_type": "markdown",
   "id": "c9d16717-e562-4aaa-aa1d-f55747bc4287",
   "metadata": {},
   "source": [
    "##### Average number of words in the articles:"
   ]
  },
  {
   "cell_type": "code",
   "execution_count": 32,
   "id": "b1555082-11bc-4e69-9c26-22cb63e51938",
   "metadata": {
    "tags": []
   },
   "outputs": [
    {
     "name": "stdout",
     "output_type": "stream",
     "text": [
      "Average number of words: 319\n",
      "Number of outliers: 146, from a total of 2683 articles\n"
     ]
    },
    {
     "data": {
      "image/png": "[encoded data removed]",
      "text/plain": [
       "<Figure size 1000x500 with 2 Axes>"
      ]
     },
     "metadata": {},
     "output_type": "display_data"
    }
   ],
   "source": [
    "# Split the column into a list of words and then calculate the number of words:\n",
    "word_count = df['content'].str.split().apply(len)\n",
    "\n",
    "# Calculate the average number of words:\n",
    "average_word_count = word_count.mean()\n",
    "\n",
    "print(f\"Average number of words: {int(average_word_count)}\")\n",
    "\n",
    "# Generate a box plot of the word counts:\n",
    "fig, (ax1, ax2) = plt.subplots(nrows=1, ncols=2, figsize=(10, 5))\n",
    "\n",
    "box_plot_data = ax1.boxplot(word_count, showfliers=True, showmeans=True)\n",
    "ax1.set_title('With outliers')\n",
    "ax1.set_ylabel('Number of words')\n",
    "\n",
    "# Count outliers\n",
    "outliers = [point for point in box_plot_data['fliers'][0].get_ydata()]\n",
    "outlier_count = len(outliers)\n",
    "print(f\"Number of outliers: {outlier_count}, from a total of {len(articles)} articles\")\n",
    "\n",
    "ax2.boxplot(word_count, showfliers=False, showmeans=True)\n",
    "ax2.set_title('Without outliers')\n",
    "ax2.set_ylabel('Number of words')\n",
    "\n",
    "# Show the plot:\n",
    "fig.suptitle('Distribution of number of words')\n",
    "plt.show()"
   ]
  },
  {
   "cell_type": "markdown",
   "id": "cd3d9f4d-c613-4cfe-93ec-9a1b6e8cd0dd",
   "metadata": {},
   "source": [
    "<ins>Comment</ins>:<br />\n",
    "From the above we can see that the main part of the articles contains between ~200 to ~400 words if we remove the 146 outliers from a total of 2683 articles."
   ]
  }
 ],
 "metadata": {
  "kernelspec": {
   "display_name": "ku-env-kernel",
   "language": "python",
   "name": "ku-env-kernel"
  },
  "language_info": {
   "codemirror_mode": {
    "name": "ipython",
    "version": 3
   },
   "file_extension": ".py",
   "mimetype": "text/x-python",
   "name": "python",
   "nbconvert_exporter": "python",
   "pygments_lexer": "ipython3",
   "version": "3.11.0"
  }
 },
 "nbformat": 4,
 "nbformat_minor": 5
}
